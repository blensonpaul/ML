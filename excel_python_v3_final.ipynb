{
  "nbformat": 4,
  "nbformat_minor": 0,
  "metadata": {
    "colab": {
      "provenance": [],
      "authorship_tag": "ABX9TyMlG8umZ/e4YucBDsM3l58r",
      "include_colab_link": true
    },
    "kernelspec": {
      "name": "python3",
      "display_name": "Python 3"
    },
    "language_info": {
      "name": "python"
    }
  },
  "cells": [
    {
      "cell_type": "markdown",
      "metadata": {
        "id": "view-in-github",
        "colab_type": "text"
      },
      "source": [
        "<a href=\"https://colab.research.google.com/github/blensonpaul/ML/blob/main/excel_python_v3_final.ipynb\" target=\"_parent\"><img src=\"https://colab.research.google.com/assets/colab-badge.svg\" alt=\"Open In Colab\"/></a>"
      ]
    },
    {
      "cell_type": "markdown",
      "source": [
        "This program converts time series data of current and voltage into voltage-capacity series.\n",
        "Battery testing data is taken from from CALCE  Battery  Research  Group: https://web.calce.umd.edu/batteries/data.htm\n",
        "\n",
        "Author: Blenson Paul\n",
        "\n",
        "Contact: blensonpaul@gmail.com\n",
        "\n",
        "(contact me to get a optimized code)"
      ],
      "metadata": {
        "id": "vVWA7l1Pns3Q"
      }
    },
    {
      "cell_type": "code",
      "source": [
        "!wget https://web.calce.umd.edu/batteries/data/SP1_25C_LC_OCV_11_5_2015.zip"
      ],
      "metadata": {
        "colab": {
          "base_uri": "https://localhost:8080/"
        },
        "id": "3Tv0ogZVFxBQ",
        "outputId": "8bd83f3a-bf4b-44fa-fdf6-d354500ce73f"
      },
      "execution_count": null,
      "outputs": [
        {
          "output_type": "stream",
          "name": "stdout",
          "text": [
            "--2022-10-28 20:48:15--  https://web.calce.umd.edu/batteries/data/SP1_25C_LC_OCV_11_5_2015.zip\n",
            "Resolving web.calce.umd.edu (web.calce.umd.edu)... 128.8.27.89\n",
            "Connecting to web.calce.umd.edu (web.calce.umd.edu)|128.8.27.89|:443... connected.\n",
            "HTTP request sent, awaiting response... 200 OK\n",
            "Length: 3015812 (2.9M) [application/zip]\n",
            "Saving to: ‘SP1_25C_LC_OCV_11_5_2015.zip’\n",
            "\n",
            "SP1_25C_LC_OCV_11_5 100%[===================>]   2.88M  6.77MB/s    in 0.4s    \n",
            "\n",
            "2022-10-28 20:48:15 (6.77 MB/s) - ‘SP1_25C_LC_OCV_11_5_2015.zip’ saved [3015812/3015812]\n",
            "\n"
          ]
        }
      ]
    },
    {
      "cell_type": "code",
      "source": [
        "!unzip SP1_25C_LC_OCV_11_5_2015.zip"
      ],
      "metadata": {
        "colab": {
          "base_uri": "https://localhost:8080/"
        },
        "id": "WdW5MaHoIhug",
        "outputId": "4f399339-59f9-4f7d-d5bb-be75ced37a7b"
      },
      "execution_count": null,
      "outputs": [
        {
          "output_type": "stream",
          "name": "stdout",
          "text": [
            "Archive:  SP1_25C_LC_OCV_11_5_2015.zip\n",
            "  inflating: 11_5_2015_low current OCV test_SP20-1.xlsx  \n"
          ]
        }
      ]
    },
    {
      "cell_type": "code",
      "source": [
        "!ls"
      ],
      "metadata": {
        "id": "e5ERBMEdIlZP",
        "colab": {
          "base_uri": "https://localhost:8080/"
        },
        "outputId": "f2ca6a23-168b-4be7-a712-588e8381f413"
      },
      "execution_count": null,
      "outputs": [
        {
          "output_type": "stream",
          "name": "stdout",
          "text": [
            "'11_5_2015_low current OCV test_SP20-1.xlsx'   SP1_25C_LC_OCV_11_5_2015.zip\n",
            " sample_data\n"
          ]
        }
      ]
    },
    {
      "cell_type": "code",
      "source": [
        "# import pandas lib as pd\n",
        "import pandas as pd\n",
        "filename = '11_5_2015_low current OCV test_SP20-1.xlsx'\n",
        "# read by default 1st sheet of an excel file\n",
        "dataframe1 = pd.read_excel(filename)\n",
        "#print(dataframe1)"
      ],
      "metadata": {
        "id": "PNBB9mjKCWuZ"
      },
      "execution_count": null,
      "outputs": []
    },
    {
      "cell_type": "code",
      "source": [
        "#@title\n",
        "# note down the column names\n",
        "# usefull at this point\n",
        "time_duration = 'Duration (sec)'\n",
        "step_variable = 'Pgm step'\n",
        "voltage = 'mV'\n",
        "current = 'mA'\n",
        "temperature = 'Temperature'"
      ],
      "metadata": {
        "id": "MRFA8TTv3x52"
      },
      "execution_count": null,
      "outputs": []
    },
    {
      "cell_type": "code",
      "source": [
        "#dataframe1.head()\n",
        "# access the column attribute\n",
        "#dataframe1.columns\n",
        "# datatype of each column\n",
        "#dataframe1.dtypes\n",
        "#dataframe1.info()"
      ],
      "metadata": {
        "id": "qYPFabRNCFA4"
      },
      "execution_count": null,
      "outputs": []
    },
    {
      "cell_type": "code",
      "source": [
        "# selecting one column\n",
        "# Syntax 2 -NOT USED , cannot use variable\n",
        "# just in case of simple data\n",
        "#dataframe1.mV"
      ],
      "metadata": {
        "id": "ol_rd0wHDozW"
      },
      "execution_count": null,
      "outputs": []
    },
    {
      "cell_type": "code",
      "source": [
        "# selecting one column\n",
        "# Syntax 1\n",
        "# select a column with [] preferred way to slect a column\n",
        "#dataframe1['mV']"
      ],
      "metadata": {
        "id": "EEvyVoWbD08H"
      },
      "execution_count": null,
      "outputs": []
    },
    {
      "cell_type": "code",
      "source": [
        "#selecting a column with a variable\n",
        "#dataframe1[voltage]"
      ],
      "metadata": {
        "id": "13dlfBM3G9iV"
      },
      "execution_count": null,
      "outputs": []
    },
    {
      "cell_type": "code",
      "source": [
        "#dataframe1['mV']\n",
        "#dataframe1[step_variable]"
      ],
      "metadata": {
        "id": "696mmynLHd6J"
      },
      "execution_count": null,
      "outputs": []
    },
    {
      "cell_type": "code",
      "source": [
        "#selecting two columns using [[]]\n",
        "#dataframe1[[step_variable, voltage]]\n",
        "# value_counts() method\n",
        "#dataframe1[step_variable].value_counts()"
      ],
      "metadata": {
        "id": "M_YR-VTyIUzC"
      },
      "execution_count": null,
      "outputs": []
    },
    {
      "cell_type": "code",
      "source": [
        "#min(dataframe1[voltage])\n",
        "#max(dataframe1[voltage])\n",
        "#"
      ],
      "metadata": {
        "id": "Nor37RK9N-9H"
      },
      "execution_count": null,
      "outputs": []
    },
    {
      "cell_type": "code",
      "source": [
        "#dataframe1[voltage].value_counts()"
      ],
      "metadata": {
        "id": "XCoVhcsfO1dI"
      },
      "execution_count": null,
      "outputs": []
    },
    {
      "cell_type": "markdown",
      "source": [
        "Plotting section"
      ],
      "metadata": {
        "id": "6DGc0kV9a_fo"
      }
    },
    {
      "cell_type": "code",
      "source": [
        "import matplotlib.pyplot as plt\n",
        "import numpy as np"
      ],
      "metadata": {
        "id": "ZQOXSgWWa3Xp"
      },
      "execution_count": null,
      "outputs": []
    },
    {
      "cell_type": "code",
      "source": [
        "#plt.plot(dataframe1[voltage].value_counts())"
      ],
      "metadata": {
        "id": "XLn1iz6xbKjw"
      },
      "execution_count": null,
      "outputs": []
    },
    {
      "cell_type": "markdown",
      "source": [
        "Selecting the step number"
      ],
      "metadata": {
        "id": "FJl1zXFpvB8N"
      }
    },
    {
      "cell_type": "code",
      "source": [
        "# select the step number\n",
        "# Step 2 is discharging and step 5 is charging\n",
        "step_select = 3\n",
        "# step_select = 5\n",
        "dataframe2 = dataframe1[dataframe1[step_variable] == step_select]"
      ],
      "metadata": {
        "id": "tj55JyUU7YPX"
      },
      "execution_count": null,
      "outputs": []
    },
    {
      "cell_type": "markdown",
      "source": [
        "Use pandas.DataFrame.query() to get a column value based on another column. Besides this method, you can also use DataFrame.loc[], DataFrame.iloc[], and DataFrame.values[] methods to select column value based on another column of pandas DataFrame."
      ],
      "metadata": {
        "id": "atue2JfDGffr"
      }
    },
    {
      "cell_type": "code",
      "source": [
        "#to prnt dataframe\n",
        "#dataframe2"
      ],
      "metadata": {
        "id": "cft-uZiuKhcd"
      },
      "execution_count": null,
      "outputs": []
    },
    {
      "cell_type": "code",
      "source": [
        "#to check data\n",
        "#dataframe2.plot()\n",
        "#plt.show()"
      ],
      "metadata": {
        "id": "WSzDDOorMTMn"
      },
      "execution_count": null,
      "outputs": []
    },
    {
      "cell_type": "code",
      "source": [
        "dataframe2.info()"
      ],
      "metadata": {
        "id": "0G1zaA59N-Dw",
        "colab": {
          "base_uri": "https://localhost:8080/"
        },
        "outputId": "f45c5d99-9949-402a-b013-e47127993e89"
      },
      "execution_count": null,
      "outputs": [
        {
          "output_type": "stream",
          "name": "stdout",
          "text": [
            "<class 'pandas.core.frame.DataFrame'>\n",
            "Int64Index: 77976 entries, 7347 to 85322\n",
            "Data columns (total 5 columns):\n",
            " #   Column          Non-Null Count  Dtype  \n",
            "---  ------          --------------  -----  \n",
            " 0   Duration (sec)  77976 non-null  int64  \n",
            " 1   Pgm step        77976 non-null  int64  \n",
            " 2   mV              77976 non-null  int64  \n",
            " 3   mA              77976 non-null  int64  \n",
            " 4   Temperature     0 non-null      float64\n",
            "dtypes: float64(1), int64(4)\n",
            "memory usage: 3.6 MB\n"
          ]
        }
      ]
    },
    {
      "cell_type": "code",
      "source": [
        "# Create the figure and axes object to have multiple y axis \n",
        "#step_select = 5\n",
        "dataframe2 = dataframe1[dataframe1[step_variable] == step_select]\n",
        "\n",
        "fig, ax = plt.subplots()\n",
        "dataframe2.plot(y = voltage , ax = ax) \n",
        "dataframe2.plot(y = current , ax = ax, secondary_y = True) \n",
        "plt.title(\"Step number = %i\" %step_select)\n",
        "plt.show()"
      ],
      "metadata": {
        "colab": {
          "base_uri": "https://localhost:8080/",
          "height": 281
        },
        "id": "ftNwaxW2P0mY",
        "outputId": "86274e64-781b-4d80-86a4-4b2f45964917"
      },
      "execution_count": null,
      "outputs": [
        {
          "output_type": "display_data",
          "data": {
            "text/plain": [
              "<Figure size 432x288 with 2 Axes>"
            ],
            "image/png": "[encoded data removed]"
          },
          "metadata": {
            "needs_background": "light"
          }
        }
      ]
    },
    {
      "cell_type": "code",
      "source": [
        "\n",
        "\n",
        "#round off volrage = two significant digit or 5%\n",
        "#calculate min, max of voltage\n",
        "#calculate voltage_step based on round off \n",
        "#create series[voltage_values, ampHour=0]\n",
        "#loop check voltage > round off\n",
        "# update (series [voltage_values, ampHour]) \n",
        "# where ampHour += timestep_difference * current \n",
        "# for that particular voltage_step"
      ],
      "metadata": {
        "id": "n5AdgZjIXuqE"
      },
      "execution_count": null,
      "outputs": []
    },
    {
      "cell_type": "code",
      "source": [
        "#print(dataframe2[voltage].min())\n",
        "#print(dataframe2[voltage].max())"
      ],
      "metadata": {
        "id": "toHSLNnZa_2y"
      },
      "execution_count": null,
      "outputs": []
    },
    {
      "cell_type": "code",
      "source": [
        "#dataframe2[voltage].value_counts()"
      ],
      "metadata": {
        "id": "hIuoPmx1hq1-"
      },
      "execution_count": null,
      "outputs": []
    },
    {
      "cell_type": "code",
      "source": [
        "#amp hor series voltage step calculatiosn\n",
        "voltage_unit = 3 \n",
        "# 3 for millvolt measurements, 0 if measured in volts, -3 if measure in killovolts\n",
        "decimal_point = 2\n",
        "#---------------------------------\n",
        "#round off volrage = two significant digit or 5%\n",
        "voltage_start = np.round((dataframe2[voltage].min() / (10 ** voltage_unit)) , decimal_point)\n",
        "voltage_end = np.round((dataframe2[voltage].max() / (10 ** voltage_unit)) , decimal_point)\n",
        "voltage_step_count = (voltage_end -voltage_start) * (10 ** decimal_point)\n",
        "# voltage_step_count_count is not used just for refernce\n",
        "voltage_step = 10 ** (-1 * decimal_point)\n",
        "#calculate min, max of voltage\n",
        "#calculate voltage_step based on round off \n",
        "\n"
      ],
      "metadata": {
        "id": "X04APdjcd3x_"
      },
      "execution_count": null,
      "outputs": []
    },
    {
      "cell_type": "code",
      "source": [
        "print(voltage_start)\n",
        "print(voltage_end)\n",
        "print(voltage_step_count)\n",
        "print(voltage_step)\n"
      ],
      "metadata": {
        "colab": {
          "base_uri": "https://localhost:8080/"
        },
        "id": "hF26cSITfq4O",
        "outputId": "86603ab7-54bd-4132-8c37-b7d8e526da96"
      },
      "execution_count": null,
      "outputs": [
        {
          "output_type": "stream",
          "name": "stdout",
          "text": [
            "2.5\n",
            "4.18\n",
            "167.99999999999997\n",
            "0.01\n"
          ]
        }
      ]
    },
    {
      "cell_type": "code",
      "source": [
        "#create series[voltage_values, ampHour=0]\n",
        "# range(start, stop, step) does not work\n",
        "# np.arange (start, stop, step)\n",
        "voltage_values = np.arange(voltage_start, voltage_end+voltage_step, voltage_step)\n",
        "print(voltage_values)"
      ],
      "metadata": {
        "colab": {
          "base_uri": "https://localhost:8080/"
        },
        "id": "taER6WueqeiW",
        "outputId": "4b59cfac-eb56-4fcf-f06c-d75fe7a7d734"
      },
      "execution_count": null,
      "outputs": [
        {
          "output_type": "stream",
          "name": "stdout",
          "text": [
            "[2.5  2.51 2.52 2.53 2.54 2.55 2.56 2.57 2.58 2.59 2.6  2.61 2.62 2.63\n",
            " 2.64 2.65 2.66 2.67 2.68 2.69 2.7  2.71 2.72 2.73 2.74 2.75 2.76 2.77\n",
            " 2.78 2.79 2.8  2.81 2.82 2.83 2.84 2.85 2.86 2.87 2.88 2.89 2.9  2.91\n",
            " 2.92 2.93 2.94 2.95 2.96 2.97 2.98 2.99 3.   3.01 3.02 3.03 3.04 3.05\n",
            " 3.06 3.07 3.08 3.09 3.1  3.11 3.12 3.13 3.14 3.15 3.16 3.17 3.18 3.19\n",
            " 3.2  3.21 3.22 3.23 3.24 3.25 3.26 3.27 3.28 3.29 3.3  3.31 3.32 3.33\n",
            " 3.34 3.35 3.36 3.37 3.38 3.39 3.4  3.41 3.42 3.43 3.44 3.45 3.46 3.47\n",
            " 3.48 3.49 3.5  3.51 3.52 3.53 3.54 3.55 3.56 3.57 3.58 3.59 3.6  3.61\n",
            " 3.62 3.63 3.64 3.65 3.66 3.67 3.68 3.69 3.7  3.71 3.72 3.73 3.74 3.75\n",
            " 3.76 3.77 3.78 3.79 3.8  3.81 3.82 3.83 3.84 3.85 3.86 3.87 3.88 3.89\n",
            " 3.9  3.91 3.92 3.93 3.94 3.95 3.96 3.97 3.98 3.99 4.   4.01 4.02 4.03\n",
            " 4.04 4.05 4.06 4.07 4.08 4.09 4.1  4.11 4.12 4.13 4.14 4.15 4.16 4.17\n",
            " 4.18]\n"
          ]
        }
      ]
    },
    {
      "cell_type": "code",
      "source": [
        "\n",
        "#print(dataframe3['voltage values'][159])\n",
        "#dataframe3.info()\n",
        "#chaged names later"
      ],
      "metadata": {
        "id": "yhYxvXaCsr5S"
      },
      "execution_count": null,
      "outputs": []
    },
    {
      "cell_type": "code",
      "source": [
        "#dataframe3.plot()\n",
        "#plt.show()"
      ],
      "metadata": {
        "id": "JTdJjPAYvdjj"
      },
      "execution_count": null,
      "outputs": []
    },
    {
      "cell_type": "code",
      "source": [
        "#print(dataframe2[voltage])"
      ],
      "metadata": {
        "id": "lg50Ctu81NMX"
      },
      "execution_count": null,
      "outputs": []
    },
    {
      "cell_type": "code",
      "source": [
        "#dataframe2"
      ],
      "metadata": {
        "id": "BNAHxtCIzHAs"
      },
      "execution_count": null,
      "outputs": []
    },
    {
      "cell_type": "code",
      "source": [
        "#dataframe3"
      ],
      "metadata": {
        "id": "OCwyJm11KGL_"
      },
      "execution_count": null,
      "outputs": []
    },
    {
      "cell_type": "code",
      "source": [
        "#dataframe3['voltage values']"
      ],
      "metadata": {
        "id": "JD4Xcs8Rx1Qe"
      },
      "execution_count": null,
      "outputs": []
    },
    {
      "cell_type": "code",
      "source": [
        "#dataframe2.dtypes"
      ],
      "metadata": {
        "id": "Lu7uvyp8yo1P"
      },
      "execution_count": null,
      "outputs": []
    },
    {
      "cell_type": "code",
      "source": [
        "#Assumption: data sampled every second"
      ],
      "metadata": {
        "id": "VGTBojiF1yzH"
      },
      "execution_count": null,
      "outputs": []
    },
    {
      "cell_type": "code",
      "source": [
        "# update (series [voltage_values, ampHour]) \n",
        "# where ampHour += timestep_difference * current \n",
        "# for that particular voltage_step\n",
        "data = {'V' : voltage_values,\n",
        "        'mAs': 0}\n",
        "dataframe3 = pd.DataFrame(data)\n",
        "dataframe3.info()\n"
      ],
      "metadata": {
        "id": "dHTGRwIKf_FG",
        "colab": {
          "base_uri": "https://localhost:8080/"
        },
        "outputId": "55cadf2d-a081-4e49-8e0f-2fe9ded2d135"
      },
      "execution_count": null,
      "outputs": [
        {
          "output_type": "stream",
          "name": "stdout",
          "text": [
            "<class 'pandas.core.frame.DataFrame'>\n",
            "RangeIndex: 169 entries, 0 to 168\n",
            "Data columns (total 2 columns):\n",
            " #   Column  Non-Null Count  Dtype  \n",
            "---  ------  --------------  -----  \n",
            " 0   V       169 non-null    float64\n",
            " 1   mAs     169 non-null    int64  \n",
            "dtypes: float64(1), int64(1)\n",
            "memory usage: 2.8 KB\n"
          ]
        }
      ]
    },
    {
      "cell_type": "markdown",
      "source": [
        "Assumption: we assume that data is logged every second, hence the milliamp second is sum of the current section. In case if there is a different steptime (or time dureation) of the data, code has to updated to calculate the time difference and then has to be multiplied with the current values to get Amp hour."
      ],
      "metadata": {
        "id": "Gu7w4fkfs0vJ"
      }
    },
    {
      "cell_type": "code",
      "source": [
        "\n",
        "data = {'V' : voltage_values,\n",
        "        'mAs': 0}\n",
        "dataframe3 = pd.DataFrame(data)\n",
        "\n",
        "def find_index(comp_voltage, voltage_unit, decimal_point):  \n",
        "  round_voltage = np.round((comp_voltage / (10 ** voltage_unit)), decimal_point)\n",
        "  for j in dataframe3.index:\n",
        "    if round_voltage == np.round(dataframe3['V'][j], decimal_point):\n",
        "      return j\n",
        "\n",
        "count = 0 \n",
        "#loop check voltage > round off\n",
        "for i in dataframe2[voltage].index:\n",
        "  count += 1\n",
        "  k = find_index(dataframe2.loc[i][voltage], voltage_unit, decimal_point)\n",
        "  dataframe3.loc[[k], 'mAs'] = dataframe3['mAs'][k] + dataframe2.loc[i][current]\n",
        "print(count)"
      ],
      "metadata": {
        "id": "2fBUHsT56i-P",
        "colab": {
          "base_uri": "https://localhost:8080/"
        },
        "outputId": "a4f5104f-5e4e-4181-b383-c61f3a0778f3"
      },
      "execution_count": null,
      "outputs": [
        {
          "output_type": "stream",
          "name": "stdout",
          "text": [
            "77976\n"
          ]
        }
      ]
    },
    {
      "cell_type": "code",
      "source": [],
      "metadata": {
        "id": "5v3YwVnIrif9"
      },
      "execution_count": null,
      "outputs": []
    },
    {
      "cell_type": "code",
      "source": [
        "#to check data\n",
        "dataframe3.plot(x='V', y='mAs')\n",
        "plt.title(\"Step number = %i\" %step_select)\n",
        "plt.show()"
      ],
      "metadata": {
        "id": "0hwy9CLD6Jrb",
        "colab": {
          "base_uri": "https://localhost:8080/",
          "height": 295
        },
        "outputId": "4f239827-5f76-49f1-ee65-22a0d3483aa9"
      },
      "execution_count": null,
      "outputs": [
        {
          "output_type": "display_data",
          "data": {
            "text/plain": [
              "<Figure size 432x288 with 1 Axes>"
            ],
            "image/png": "[encoded data removed]"
          },
          "metadata": {
            "needs_background": "light"
          }
        }
      ]
    },
    {
      "cell_type": "code",
      "source": [
        "dataframe3.info()"
      ],
      "metadata": {
        "colab": {
          "base_uri": "https://localhost:8080/"
        },
        "id": "JJK_XC6nt6lR",
        "outputId": "7a0424e7-684b-4665-fc0c-e38e88dfc16f"
      },
      "execution_count": null,
      "outputs": [
        {
          "output_type": "stream",
          "name": "stdout",
          "text": [
            "<class 'pandas.core.frame.DataFrame'>\n",
            "RangeIndex: 169 entries, 0 to 168\n",
            "Data columns (total 2 columns):\n",
            " #   Column  Non-Null Count  Dtype  \n",
            "---  ------  --------------  -----  \n",
            " 0   V       169 non-null    float64\n",
            " 1   mAs     169 non-null    int64  \n",
            "dtypes: float64(1), int64(1)\n",
            "memory usage: 2.8 KB\n"
          ]
        }
      ]
    },
    {
      "cell_type": "code",
      "source": [
        "dataframe2.info"
      ],
      "metadata": {
        "colab": {
          "base_uri": "https://localhost:8080/"
        },
        "id": "YCc_ZCeCuGua",
        "outputId": "01b45f1e-2670-42c0-f5d1-67726a292ab3"
      },
      "execution_count": null,
      "outputs": [
        {
          "output_type": "execute_result",
          "data": {
            "text/plain": [
              "<bound method DataFrame.info of        Duration (sec)  Pgm step    mV   mA  Temperature\n",
              "7347             7354         3  4175  -45          NaN\n",
              "7348             7355         3  4165 -101          NaN\n",
              "7349             7356         3  4165 -100          NaN\n",
              "7350             7357         3  4165  -99          NaN\n",
              "7351             7358         3  4165  -99          NaN\n",
              "...               ...       ...   ...  ...          ...\n",
              "85318           85335         3  2501 -100          NaN\n",
              "85319           85336         3  2500 -100          NaN\n",
              "85320           85337         3  2498  -99          NaN\n",
              "85321           85338         3  2497 -100          NaN\n",
              "85322           85339         3  2496  -99          NaN\n",
              "\n",
              "[77976 rows x 5 columns]>"
            ]
          },
          "metadata": {},
          "execution_count": 39
        }
      ]
    },
    {
      "cell_type": "code",
      "source": [
        "#to download the Dataframe3 values locally\n",
        "from google.colab import files\n",
        "\n",
        "dataframe3.to_csv('dataframe3.csv')\n",
        "files.download('dataframe3.csv')"
      ],
      "metadata": {
        "colab": {
          "base_uri": "https://localhost:8080/",
          "height": 34
        },
        "id": "GodGxibQsE3o",
        "outputId": "d42b922d-f986-488e-ab53-c40eaa787b40"
      },
      "execution_count": null,
      "outputs": [
        {
          "output_type": "display_data",
          "data": {
            "text/plain": [
              "<IPython.core.display.Javascript object>"
            ],
            "application/javascript": [
              "\n",
              "    async function download(id, filename, size) {\n",
              "      if (!google.colab.kernel.accessAllowed) {\n",
              "        return;\n",
              "      }\n",
              "      const div = document.createElement('div');\n",
              "      const label = document.createElement('label');\n",
              "      label.textContent = `Downloading \"${filename}\": `;\n",
              "      div.appendChild(label);\n",
              "      const progress = document.createElement('progress');\n",
              "      progress.max = size;\n",
              "      div.appendChild(progress);\n",
              "      document.body.appendChild(div);\n",
              "\n",
              "      const buffers = [];\n",
              "      let downloaded = 0;\n",
              "\n",
              "      const channel = await google.colab.kernel.comms.open(id);\n",
              "      // Send a message to notify the kernel that we're ready.\n",
              "      channel.send({})\n",
              "\n",
              "      for await (const message of channel.messages) {\n",
              "        // Send a message to notify the kernel that we're ready.\n",
              "        channel.send({})\n",
              "        if (message.buffers) {\n",
              "          for (const buffer of message.buffers) {\n",
              "            buffers.push(buffer);\n",
              "            downloaded += buffer.byteLength;\n",
              "            progress.value = downloaded;\n",
              "          }\n",
              "        }\n",
              "      }\n",
              "      const blob = new Blob(buffers, {type: 'application/binary'});\n",
              "      const a = document.createElement('a');\n",
              "      a.href = window.URL.createObjectURL(blob);\n",
              "      a.download = filename;\n",
              "      div.appendChild(a);\n",
              "      a.click();\n",
              "      div.remove();\n",
              "    }\n",
              "  "
            ]
          },
          "metadata": {}
        },
        {
          "output_type": "display_data",
          "data": {
            "text/plain": [
              "<IPython.core.display.Javascript object>"
            ],
            "application/javascript": [
              "download(\"download_b03a74c9-e90c-41d2-92cc-8888879ebcfd\", \"dataframe3.csv\", 4755)"
            ]
          },
          "metadata": {}
        }
      ]
    }
  ]
}